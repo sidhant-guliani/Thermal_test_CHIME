{
 "cells": [
  {
   "cell_type": "code",
   "execution_count": 1,
   "metadata": {
    "collapsed": false
   },
   "outputs": [
    {
     "name": "stdout",
     "output_type": "stream",
     "text": [
      "Using matplotlib backend: Qt4Agg\n",
      "Populating the interactive namespace from numpy and matplotlib\n"
     ]
    }
   ],
   "source": [
    "import pylab as plt\n",
    "import matplotlib.pyplot as plt\n",
    "import numpy as np\n",
    "import h5py\n",
    "import shutil\n",
    "import pdb\n",
    "import datetime\n",
    "import os\n",
    "from operator import truediv\n",
    "import operator\n",
    "from scipy.optimize import curve_fit\n",
    "import matplotlib.cm as cm\n",
    "from scipy.optimize import leastsq\n",
    "\n",
    "%pylab\n",
    "%matplotlib inline\n",
    "%load_ext autoreload\n",
    "%autoreload 2\n",
    "\n"
   ]
  },
  {
   "cell_type": "code",
   "execution_count": 2,
   "metadata": {
    "collapsed": true
   },
   "outputs": [],
   "source": [
    "corr_list = [4,11,17,22,27,28,29]\n",
    "freq_phase = np.linspace(400,800,1024)\n",
    "colors=['r','g','b','k','c','y','m']\n",
    "legend_crosscorr = [\"(0,4) A63\",\"(1,4) A00\",\"(2,4) A48\",\"(3,4) A31\",\"(5,4) B00\",\"(6,4) B63\",\"(7,4) B48\"]\n",
    "\n",
    "freq=462\n",
    "num =14"
   ]
  },
  {
   "cell_type": "code",
   "execution_count": 4,
   "metadata": {
    "collapsed": true
   },
   "outputs": [],
   "source": [
    "def mag(tot_frames,corr_files):\n",
    "        tot_magnitude = np.zeros((tot_frames, len(corr_list), len(freq_phase[50:990])))\n",
    "        tot_magnitude_ref = np.zeros((tot_frames, 2, len(freq_phase[50:990])))\n",
    "        x=0\n",
    "        for corr_file in corr_files:\n",
    "                for i in range(len(corr_list)):\n",
    "                        frames =  corr_file['vis'][:].shape[0]\n",
    "                        tot_magnitude[x:x+frames,i,:] = (np.sqrt(corr_file['vis'][:][:,corr_list[i],50:990]['imag'].astype(np.float)**2 + corr_file['vis'][:][:,corr_list[i],50:990]['real'].astype(np.float)**2))\n",
    "                tot_magnitude_ref[x:x+frames,0,:] = np.sqrt(corr_file['vis'][:][:,26,50:990]['imag'].astype(np.float)**2 + corr_file['vis'][:][:,27,50:990]['real'].astype(np.float)**2)\n",
    "                tot_magnitude_ref[x:x+frames,1,:] = corr_file['vis'][:][:,27,50:990]\n",
    "                x = x + frames\n",
    "\n",
    "        return tot_magnitude,tot_magnitude_ref"
   ]
  },
  {
   "cell_type": "code",
   "execution_count": 5,
   "metadata": {
    "collapsed": true
   },
   "outputs": [],
   "source": [
    "def gain_freq(corr_files,tot_frames,visibility, visibility_ref):\n",
    "        x=0\n",
    "        gain_1 = np.zeros((tot_frames, len(corr_list), len(freq_phase[50:990])))\n",
    "        for corr_file in corr_files:\n",
    "                frames = corr_file['vis'][:].shape[0]\n",
    "                gain = np.zeros((frames, len(corr_list), len(freq_phase[50:990])))\n",
    "                for i in range(len(corr_list)):\n",
    "                        gain_1[x:frames+x,i,:] = 20*np.log10(np.sqrt(corr_file['vis'][:][:,corr_list[i],50:990]['imag'].astype(np.float)**2 + corr_file['vis'][:][:,corr_list[i],50:990]['real'].astype(np.float)**2)/(np.sqrt(corr_file['vis'][:][:,26,50:990]['imag'].astype(np.float)**2 + corr_file['vis'][:][:,26,50:990]['real'].astype(np.float)**2)))\n",
    "                x=frames+x\n",
    "\n",
    "        return gain_1[:,:,::-1]"
   ]
  },
  {
   "cell_type": "code",
   "execution_count": 6,
   "metadata": {
    "collapsed": true
   },
   "outputs": [],
   "source": [
    "def delay_unwrap(tot_frames,corr_files):\n",
    "        delay = np.zeros((tot_frames,len(corr_list)))\n",
    "        #phi = np.zeros((frames, len(corr_list), len(freq_phase[20:990])))# not taking some frequency bins\n",
    "        kk=0\n",
    "        delay_freq_bad_frame = np.zeros((len(corr_list),len(freq_phase[50:990])))\n",
    "        for corr_file in corr_files:\n",
    "                vis = corr_file['vis'][:][:,corr_list,50:990]\n",
    "                frames = corr_file['vis'][:].shape[0]\n",
    "                vis_abs =  np.sqrt((vis['imag']).astype(np.float)**2+(vis['real']).astype(np.float)**2)\n",
    "                vis_abs =  np.sqrt((vis['imag']).astype(np.float)**2+(vis['real']).astype(np.float)**2)\n",
    "                phi = np.arctan2((vis['imag']),(vis['real']))\n",
    "                unwrap_phase_1 = np.unwrap(phi)\n",
    "                unwrap_phase = unwrap_phase_1[:,::-1]/(2*np.pi)\n",
    "                slope = [[0 for x in range(len(corr_list))] for y in range(frames)]\n",
    "                for j in range(len(corr_list)):\n",
    "                        slope_1 = []\n",
    "                        for i in range(frames):\n",
    "                                slope[i],b = np.polyfit(freq_phase[50:990]*10**6,unwrap_phase[i][j][:],1)\n",
    "                                if slope[i]<0:\n",
    "                                        slope[i] = slope[i]*(-1.0)\n",
    "                        delay[kk:kk+frames,j] = slope\n",
    "                kk=kk+frames\n",
    "                #pdb.set_trace()\n",
    "        return np.array(delay),unwrap_phase #"
   ]
  },
  {
   "cell_type": "code",
   "execution_count": null,
   "metadata": {
    "collapsed": true
   },
   "outputs": [],
   "source": []
  }
 ],
 "metadata": {
  "anaconda-cloud": {},
  "kernelspec": {
   "display_name": "Python [py3k]",
   "language": "python",
   "name": "Python [py3k]"
  },
  "language_info": {
   "codemirror_mode": {
    "name": "ipython",
    "version": 3
   },
   "file_extension": ".py",
   "mimetype": "text/x-python",
   "name": "python",
   "nbconvert_exporter": "python",
   "pygments_lexer": "ipython3",
   "version": "3.5.2"
  }
 },
 "nbformat": 4,
 "nbformat_minor": 0
}
