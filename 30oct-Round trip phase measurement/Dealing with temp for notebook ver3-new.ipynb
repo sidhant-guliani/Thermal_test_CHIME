{
 "cells": [
  {
   "cell_type": "code",
   "execution_count": 1,
   "metadata": {
    "collapsed": false
   },
   "outputs": [
    {
     "name": "stdout",
     "output_type": "stream",
     "text": [
      "Using matplotlib backend: Qt4Agg\n",
      "Populating the interactive namespace from numpy and matplotlib\n"
     ]
    }
   ],
   "source": [
    "import pylab as plt\n",
    "import matplotlib.pyplot as plt\n",
    "import numpy as np\n",
    "import h5py\n",
    "import shutil\n",
    "import pdb\n",
    "import datetime\n",
    "import os\n",
    "from operator import truediv\n",
    "import operator\n",
    "from scipy.optimize import curve_fit\n",
    "import matplotlib.cm as cm\n",
    "from scipy.optimize import leastsq\n",
    "\n",
    "%pylab\n",
    "%matplotlib inline\n",
    "%load_ext autoreload\n",
    "%autoreload 2\n",
    "\n"
   ]
  },
  {
   "cell_type": "code",
   "execution_count": 2,
   "metadata": {
    "collapsed": false
   },
   "outputs": [],
   "source": [
    "file = open(\"temp_data_all.out\",\"r\")\n",
    "date_temp = np.loadtxt('temp_data_all.out')\n",
    "file.close()\n",
    "\n",
    "date_weather_data_new = date_temp[0]\n",
    "temp_weather_data_new = date_temp[1]\n",
    "\n",
    "temp_frame = [718,120,718,236,718,718,718,526,50,718,106,718]\n",
    "\n",
    "a= date_weather_data_new[0:718]\n",
    "b= temp_weather_data_new[0:718]\n",
    "temp_1 = np.append(a[::2],a[717])\n",
    "time_1 = np.append(b[::2],b[717])\n",
    "\n",
    "a= date_weather_data_new[718:838]\n",
    "b= temp_weather_data_new[718:838]\n",
    "temp_1 = np.append(temp_1,a[::2])\n",
    "temp_1 = np.append(temp_1,a[119])\n",
    "time_1 = np.append(time_1,b[::2])\n",
    "time_1 = np.append(time_1,b[119])\n",
    "\n",
    "a= date_weather_data_new[838:1556]\n",
    "b= temp_weather_data_new[838:1556]\n",
    "temp_1 = np.append(temp_1,a[::2])\n",
    "temp_1 = np.append(temp_1,a[717])\n",
    "time_1 = np.append(time_1,b[::2])\n",
    "time_1 = np.append(time_1,b[717])\n",
    "\n",
    "a= date_weather_data_new[1556:1792]\n",
    "b= temp_weather_data_new[1556:1792]\n",
    "temp_1 = np.append(temp_1,a[::2])\n",
    "temp_1 = np.append(temp_1,a[235])\n",
    "time_1 = np.append(time_1,b[::2])\n",
    "time_1 = np.append(time_1,b[235])\n",
    "\n",
    "a= date_weather_data_new[1792:2510]\n",
    "b= temp_weather_data_new[1792:2510]\n",
    "temp_1 = np.append(temp_1,a[::2])\n",
    "temp_1 = np.append(temp_1,a[717])\n",
    "time_1 = np.append(time_1,b[::2])\n",
    "time_1 = np.append(time_1,b[717])\n",
    "\n",
    "a= date_weather_data_new[2510:3228]\n",
    "b= temp_weather_data_new[2510:3228]\n",
    "temp_1 = np.append(temp_1,a[::2])\n",
    "temp_1 = np.append(temp_1,a[717])\n",
    "time_1 = np.append(time_1,b[::2])\n",
    "time_1 = np.append(time_1,b[717])\n",
    "\n",
    "a= date_weather_data_new[3228:3946]\n",
    "b= temp_weather_data_new[3228:3946]\n",
    "temp_1 = np.append(temp_1,a[::2])\n",
    "temp_1 = np.append(temp_1,a[717])\n",
    "time_1 = np.append(time_1,b[::2])\n",
    "time_1 = np.append(time_1,b[717])\n",
    "\n",
    "a= date_weather_data_new[3946:4472]\n",
    "b= temp_weather_data_new[3946:4472]\n",
    "temp_1 = np.append(temp_1,a[::2])\n",
    "temp_1 = np.append(temp_1,a[525])\n",
    "time_1 = np.append(time_1,b[::2])\n",
    "time_1 = np.append(time_1,b[525])\n",
    "\n",
    "time_partial_new = np.array([(datetime.datetime.fromtimestamp(x))  for x in temp_1 ])\n",
    "#time_partial_new = np.array([(datetime.datetime.fromtimestamp(x)) for x in temp_1 ])\n",
    "\n",
    "# these are the times that we are using from here!\n",
    "temp_intercept_model = time_1[41::]\n",
    "time_intercept_model = time_partial_new[41::]"
   ]
  },
  {
   "cell_type": "code",
   "execution_count": 5,
   "metadata": {
    "collapsed": false
   },
   "outputs": [],
   "source": [
    "date_weather_data_new = date_temp[0]\n",
    "temp_weather_data_new = date_temp[1]\n",
    "\n",
    "temp_frame = [718,120,718,236,718,718,718,526,50,718,106,718]\n",
    "\n",
    "a= date_weather_data_new[0:718]\n",
    "b= temp_weather_data_new[0:718]\n",
    "temp_1 = np.append(a[::2],a[717])\n",
    "time_1 = np.append(b[::2],b[717])\n",
    "\n",
    "a= date_weather_data_new[718:838]\n",
    "b= temp_weather_data_new[718:838]\n",
    "temp_1 = np.append(temp_1,a[::2])\n",
    "temp_1 = np.append(temp_1,a[119])\n",
    "time_1 = np.append(time_1,b[::2])\n",
    "time_1 = np.append(time_1,b[119])\n",
    "\n",
    "a= date_weather_data_new[838:1556]\n",
    "b= temp_weather_data_new[838:1556]\n",
    "temp_1 = np.append(temp_1,a[::2])\n",
    "temp_1 = np.append(temp_1,a[717])\n",
    "time_1 = np.append(time_1,b[::2])\n",
    "time_1 = np.append(time_1,b[717])\n",
    "\n",
    "a= date_weather_data_new[1556:1792]\n",
    "b= temp_weather_data_new[1556:1792]\n",
    "temp_1 = np.append(temp_1,a[::2])\n",
    "temp_1 = np.append(temp_1,a[235])\n",
    "time_1 = np.append(time_1,b[::2])\n",
    "time_1 = np.append(time_1,b[235])\n",
    "\n",
    "time_partial_new = np.array([(datetime.datetime.fromtimestamp(x))  for x in temp_1 ])\n",
    "temp_intercept_model = time_1[41::]\n",
    "time_intercept_model = time_partial_new[41::]"
   ]
  },
  {
   "cell_type": "code",
   "execution_count": 13,
   "metadata": {
    "collapsed": true
   },
   "outputs": [],
   "source": [
    "a= date_weather_data_new[0:800]\n",
    "time_partial_new = np.array([(datetime.datetime.fromtimestamp(x))  for x in a ])\n",
    "b= temp_weather_data_new[0:800]"
   ]
  },
  {
   "cell_type": "code",
   "execution_count": 22,
   "metadata": {
    "collapsed": false
   },
   "outputs": [
    {
     "name": "stdout",
     "output_type": "stream",
     "text": [
      "800\n",
      "800\n",
      "4000\n",
      "4000\n"
     ]
    }
   ],
   "source": [
    "import numpy as np\n",
    "import scipy as sp\n",
    "import scipy.interpolate\n",
    "print(len(a))\n",
    "print(len(b))\n",
    "\n",
    "new_length = 4000\n",
    "new_x = np.linspace(a.min(), a.max(), new_length)\n",
    "print(len(new_x))\n",
    "new_y = sp.interpolate.interp1d(a, b, kind='cubic')(new_x)\n",
    "print(len(new_y))"
   ]
  },
  {
   "cell_type": "code",
   "execution_count": 26,
   "metadata": {
    "collapsed": false
   },
   "outputs": [
    {
     "data": {
      "text/plain": [
       "[<matplotlib.lines.Line2D at 0x8a05080>]"
      ]
     },
     "execution_count": 26,
     "metadata": {},
     "output_type": "execute_result"
    },
    {
     "data": {
      "image/png": "[encoded data removed]",
      "text/plain": [
       "<matplotlib.figure.Figure at 0x892db70>"
      ]
     },
     "metadata": {},
     "output_type": "display_data"
    }
   ],
   "source": [
    "plt.figure(figsize(16,8))\n",
    "plt.plot(np.array([(datetime.datetime.fromtimestamp(x))  for x in new_x ]),new_y, 'k')\n",
    "plt.plot(np.array([(datetime.datetime.fromtimestamp(x))  for x in a ]),b,'c')"
   ]
  },
  {
   "cell_type": "code",
   "execution_count": 53,
   "metadata": {
    "collapsed": false
   },
   "outputs": [
    {
     "name": "stdout",
     "output_type": "stream",
     "text": [
      "3590\n",
      "3590\n"
     ]
    }
   ],
   "source": [
    "a= date_weather_data_new[0:718]\n",
    "b= temp_weather_data_new[0:718]\n",
    "\n",
    "new_length = 718*5\n",
    "new_x = np.linspace(a.min(), a.max(), new_length)\n",
    "print(len(new_x))\n",
    "new_y = sp.interpolate.interp1d(a, b, kind='cubic')(new_x)\n",
    "print(len(new_y))\n",
    "\n",
    "time_new = np.array([(datetime.datetime.fromtimestamp(x))  for x in new_x ])\n",
    "temp_new = new_y\n",
    "\n",
    "time_min=[]\n",
    "temp_min=[]\n",
    "min_range = [7,17,27,37,47,57]\n",
    "\n",
    "for i in range(len(time_new)):\n",
    "    if time_new[i].minute in min_range:\n",
    "        #print(time_new[i])\n",
    "        time_min.append(time_new[i])\n",
    "        temp_min.append(temp_new[i])\n",
    "\n"
   ]
  },
  {
   "cell_type": "code",
   "execution_count": 55,
   "metadata": {
    "collapsed": false
   },
   "outputs": [
    {
     "name": "stdout",
     "output_type": "stream",
     "text": [
      "358\n"
     ]
    }
   ],
   "source": [
    "print(len(time_min))"
   ]
  },
  {
   "cell_type": "code",
   "execution_count": 52,
   "metadata": {
    "collapsed": false
   },
   "outputs": [
    {
     "name": "stdout",
     "output_type": "stream",
     "text": [
      "1491785100.0\n",
      "1491786000.0\n",
      "1491786300.0\n"
     ]
    }
   ],
   "source": [
    "print(date_weather_data_new[717])\n",
    "print(date_weather_data_new[718])\n",
    "print(date_weather_data_new[719])"
   ]
  }
 ],
 "metadata": {
  "kernelspec": {
   "display_name": "Python [Root]",
   "language": "python",
   "name": "Python [Root]"
  },
  "language_info": {
   "codemirror_mode": {
    "name": "ipython",
    "version": 3
   },
   "file_extension": ".py",
   "mimetype": "text/x-python",
   "name": "python",
   "nbconvert_exporter": "python",
   "pygments_lexer": "ipython3",
   "version": "3.5.2"
  }
 },
 "nbformat": 4,
 "nbformat_minor": 0
}
